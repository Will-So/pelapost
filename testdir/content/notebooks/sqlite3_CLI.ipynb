{
 "cells": [
  {
   "cell_type": "markdown",
   "metadata": {},
   "source": [
    "# What is sqlite3 good for?"
   ]
  },
  {
   "cell_type": "markdown",
   "metadata": {},
   "source": [
    "Using the `sqlite3` CLI can often be a good alternative to python-based solutions when the operations we are performing is easy to express directly with SQL.\n"
   ]
  },
  {
   "cell_type": "markdown",
   "metadata": {},
   "source": [
    "# How does it work?"
   ]
  },
  {
   "cell_type": "markdown",
   "metadata": {},
   "source": [
    "1. Commands like `.tables` are prefixed with a dot. \n",
    "2. SQL statements `select * from AllstarFull` end with a semicolon\n",
    "\n",
    "\n",
    "Useful commands are:\n",
    "\n",
    "1. `.tables`: Shows all tables in the db.\n",
    "2. `.timer ON`: times how long an operation takes between `.timer ON` and `.timer OFF`\n",
    "3. `.schema` shows the schema of all the tables in the db"
   ]
  },
  {
   "cell_type": "markdown",
   "metadata": {},
   "source": [
    "# Cookbook"
   ]
  },
  {
   "cell_type": "markdown",
   "metadata": {},
   "source": [
    "We can dump files to csv via the following syntax\n",
    "\n",
    "```sql\n",
    "\n",
    ".mode CSV\n",
    ".headers on\n",
    ".output table.csv\n",
    "\n",
    "```\n",
    "\n",
    "We can run an SQL script from the command line using the following syntax\n",
    "\n",
    "`sqlite3 database.db < sql_script.sql`\n",
    "\n",
    "After dropping a table, you may have to use `VACUUM;` to reclaim the space that the dropped table was using.\n",
    "\n",
    "## Dealing with Database or Disk is Full\n",
    "\n",
    "When dealing with tables that are large compared to the space on disk it's possible to get an error that says: `Error: near line 41: database or disk is full` even though the disk isn't full and even though the database is far smaller than the 120TB size limit. \n",
    "\n",
    "This could be because either 1) the temporary file directory is filling up or 2) the database is corrupted.\n",
    "\n",
    "In the case of (1), the solution is either to tell SQLite to put everything in ram via `sqlite> prgrama temp_store = 2;`. If you don't have enough ran for the operation, you can change the temporary directory with the following code:\n",
    "\n",
    "```\n",
    "sqlite> pragma temp_store = 1;\n",
    "sqlite> pragma temp_store_directory = '/spacious/hdd/data';\n",
    "```\n",
    "\n",
    "In the case of (2) hope is still not lost. Search the internet for ways to repair a corrupt SQLite database. "
   ]
  },
  {
   "cell_type": "markdown",
   "metadata": {
    "collapsed": true
   },
   "source": [
    "# When to use SQLITE"
   ]
  },
  {
   "cell_type": "markdown",
   "metadata": {},
   "source": [
    "SQLite is much easier to work with than other RBDMS because it is serverless, requires few external libraries, and requires no configuration. \n",
    "\n",
    "I think of SQLite as being the Python of databases. If you are using an RBDMS for a project, you should have a good reason not to use SQLite. On websites it can handle 100k hits/day with ease and [500k is probably a more realistic upper bound](https://www.sqlite.org/whentouse.html).\n",
    "\n",
    "The `SQLite` [website](https://www.sqlite.org/whentouse.html) offers a few cases when SQLite probably is not the best choice. \n",
    "\n",
    "1. If your DB is so big that it can't fit on a single disk, then you probably need something else.\n",
    "2. Websites with very high write volumes\n",
    "3. Multiple uers need to write to a db simultaneously. \n",
    "4. You aren't storing your RBDMS on the same hard drive as your app."
   ]
  }
 ],
 "metadata": {
  "kernelspec": {
   "display_name": "Python 2",
   "language": "python",
   "name": "python2"
  },
  "language_info": {
   "codemirror_mode": {
    "name": "ipython",
    "version": 2
   },
   "file_extension": ".py",
   "mimetype": "text/x-python",
   "name": "python",
   "nbconvert_exporter": "python",
   "pygments_lexer": "ipython2",
   "version": "2.7.10"
  }
 },
 "nbformat": 4,
 "nbformat_minor": 0
}
